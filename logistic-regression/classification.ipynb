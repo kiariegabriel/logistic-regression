{
 "cells": [
  {
   "cell_type": "code",
   "execution_count": null,
   "metadata": {},
   "outputs": [],
   "source": [
    "import split as sp  # Import the split module and name it sp\n",
    "import numpy as np  \n",
    "import matplotlib.pyplot as plt\n",
    "import logistic_regression as lr  # Import the logistic_regression module and name it lr\n",
    "from sklearn.datasets import load_digits\n",
    "\n"
   ]
  },
  {
   "cell_type": "markdown",
   "metadata": {},
   "source": [
    "# 1's and 0's extraction from the scikit learn load_digits\n"
   ]
  },
  {
   "cell_type": "code",
   "execution_count": null,
   "metadata": {},
   "outputs": [],
   "source": [
    "digits=load_digits()\n",
    "\n",
    "data=digits.data\n",
    "target=digits.target\n",
    "\n",
    "data_list=[]\n",
    "target_list=[]\n",
    "for indx, i in enumerate(target):\n",
    "    if i==0 or i==1:\n",
    "        row_list=[]\n",
    "        target_list.append(i)\n",
    "        row=data[indx,:]\n",
    "        for i in row:\n",
    "            row_list.append(i)\n",
    "        data_list.append(row_list)\n",
    "\n",
    "target_array=np.array(target_list)\n",
    "data_array=np.array(data_list)\n",
    "data_array=data_array/data_array.max()\n",
    "\n",
    "#print(data_array.shape, '\\n',target_array.shape)"
   ]
  },
  {
   "cell_type": "markdown",
   "metadata": {},
   "source": [
    "# Splitting the data.\n",
    "\n",
    "In the cell that follows, we split the data using the the split function from the split module. The split function takes three parameters i.e. the attributes, the targets and the test size. The test size is a proportion and when none is passed, the default, 0.25, is used. It returns the training data and the test data."
   ]
  },
  {
   "cell_type": "code",
   "execution_count": null,
   "metadata": {},
   "outputs": [],
   "source": [
    "X_train,y_train,X_test,y_test=sp.split(data_array,target_array,.2)\n",
    "\n",
    "print(X_train.shape,y_train.shape,X_test.shape,y_test.shape)"
   ]
  },
  {
   "cell_type": "markdown",
   "metadata": {},
   "source": [
    "# Fitting the train data.\n",
    "\n",
    "In the cell below, the training data is fitted into the logic regression algorithm. The fit function takes in four parameters, i.e. the training attributes, training targets, number of iterations and the learning rate. The number of iterations is set at a default value of 1000 and so is the learning rate at 0.01. These are used when non is passed. This function returns the loss of each iteration and the final weights. To improve the accuracy, one can play withe learning rate and the number of iterations."
   ]
  },
  {
   "cell_type": "code",
   "execution_count": null,
   "metadata": {},
   "outputs": [],
   "source": [
    "l,w=lr.fit(X_train,y_train,10000)\n"
   ]
  },
  {
   "cell_type": "code",
   "execution_count": null,
   "metadata": {},
   "outputs": [],
   "source": [
    "plt.plot(l)\n",
    "plt.show()"
   ]
  },
  {
   "cell_type": "markdown",
   "metadata": {},
   "source": [
    "# Prediction\n",
    "\n",
    "The cell below takes in the test attributes and the weights generated from the training and predicts the test attributes. "
   ]
  },
  {
   "cell_type": "code",
   "execution_count": null,
   "metadata": {},
   "outputs": [],
   "source": [
    "p=lr.predict(X_test,w)\n",
    "p\n"
   ]
  },
  {
   "cell_type": "markdown",
   "metadata": {},
   "source": [
    "# Accuracy\n",
    "\n",
    "The cell below computes the accuracy of the algorithm."
   ]
  },
  {
   "cell_type": "code",
   "execution_count": null,
   "metadata": {},
   "outputs": [],
   "source": [
    "accuracy=lr.accuracy(p,y_test)\n",
    "accuracy"
   ]
  },
  {
   "cell_type": "code",
   "execution_count": null,
   "metadata": {},
   "outputs": [],
   "source": []
  }
 ],
 "metadata": {
  "kernelspec": {
   "display_name": "Python 3",
   "language": "python",
   "name": "python3"
  },
  "language_info": {
   "codemirror_mode": {
    "name": "ipython",
    "version": 3
   },
   "file_extension": ".py",
   "mimetype": "text/x-python",
   "name": "python",
   "nbconvert_exporter": "python",
   "pygments_lexer": "ipython3",
   "version": "3.8.3"
  }
 },
 "nbformat": 4,
 "nbformat_minor": 4
}
